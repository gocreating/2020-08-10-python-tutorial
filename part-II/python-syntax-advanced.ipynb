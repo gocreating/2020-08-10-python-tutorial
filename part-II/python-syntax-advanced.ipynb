{
 "cells": [
  {
   "cell_type": "markdown",
   "metadata": {},
   "source": [
    "# Function"
   ]
  },
  {
   "cell_type": "code",
   "execution_count": null,
   "metadata": {},
   "outputs": [],
   "source": [
    "def my_print():\n",
    "    print('hello world')\n",
    "    \n",
    "my_print()"
   ]
  },
  {
   "cell_type": "code",
   "execution_count": null,
   "metadata": {},
   "outputs": [],
   "source": [
    "def add(x, y):\n",
    "    sum = x + y\n",
    "    return sum\n",
    "    \n",
    "print(add(3, 4))"
   ]
  },
  {
   "cell_type": "code",
   "execution_count": null,
   "metadata": {},
   "outputs": [],
   "source": [
    "# keyword arguments 的使用\n",
    "\n",
    "def math_operation(x, y, operation='add'):\n",
    "    if operation == 'add':\n",
    "        return x + y\n",
    "    elif operation == 'minus':\n",
    "        return x - y\n",
    "\n",
    "print(math_operation(1, 2))\n",
    "print(math_operation(1, 2, 'minus'))"
   ]
  },
  {
   "cell_type": "code",
   "execution_count": null,
   "metadata": {},
   "outputs": [],
   "source": [
    "# 遞迴 function 就是一種重複使用程式邏輯的方式\n",
    "\n",
    "def f(n):\n",
    "    if n == 1:\n",
    "        return 0\n",
    "    elif n == 2:\n",
    "        return 1\n",
    "    else:\n",
    "        return f(n - 2) + f(n - 1)\n",
    "\n",
    "for i in range(1, 10):\n",
    "    print(f(i))"
   ]
  },
  {
   "cell_type": "markdown",
   "metadata": {},
   "source": [
    "# Class"
   ]
  },
  {
   "cell_type": "code",
   "execution_count": null,
   "metadata": {},
   "outputs": [],
   "source": [
    "class Animal():\n",
    "    def __init__(self, name):\n",
    "        self.name = name\n",
    "        \n",
    "    def say_hello(self):\n",
    "        print('我的名字是', self.name)\n",
    "\n",
    "animal = Animal('Nico')\n",
    "animal.say_hello()"
   ]
  },
  {
   "cell_type": "code",
   "execution_count": null,
   "metadata": {},
   "outputs": [],
   "source": [
    "# 繼承\n",
    "\n",
    "class Dog(Animal):\n",
    "    def bark(self):\n",
    "        print('汪')\n",
    "\n",
    "dog = Dog('Nico')\n",
    "dog.bark()\n",
    "dog.say_hello()"
   ]
  },
  {
   "cell_type": "code",
   "execution_count": null,
   "metadata": {},
   "outputs": [],
   "source": [
    "# 覆寫\n",
    "\n",
    "class Dog(Animal):\n",
    "    def say_hello(self):\n",
    "        print('汪汪汪')\n",
    "        super().say_hello() # 呼叫 animal 的 say_hello()，覆寫 say_hello() 的行為\n",
    "\n",
    "dog = Dog('Nico')\n",
    "dog.say_hello()"
   ]
  }
 ],
 "metadata": {
  "kernelspec": {
   "display_name": "Python 3",
   "language": "python",
   "name": "python3"
  },
  "language_info": {
   "codemirror_mode": {
    "name": "ipython",
    "version": 3
   },
   "file_extension": ".py",
   "mimetype": "text/x-python",
   "name": "python",
   "nbconvert_exporter": "python",
   "pygments_lexer": "ipython3",
   "version": "3.8.3"
  }
 },
 "nbformat": 4,
 "nbformat_minor": 4
}
