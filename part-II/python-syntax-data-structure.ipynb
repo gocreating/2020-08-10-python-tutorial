{
 "cells": [
  {
   "cell_type": "markdown",
   "metadata": {},
   "source": [
    "# Tuple"
   ]
  },
  {
   "cell_type": "code",
   "execution_count": null,
   "metadata": {},
   "outputs": [],
   "source": [
    "x = 10, 20, 30   # 資料全部是數字\n",
    "y = 'Tom', 12    # 資料包含字串和數字\n",
    "\n",
    "print(x, y)\n",
    "print(x[2])\n",
    "print(y[1])"
   ]
  },
  {
   "cell_type": "code",
   "execution_count": null,
   "metadata": {},
   "outputs": [],
   "source": [
    "# 資料不能被更改\n",
    "y[1] = 5"
   ]
  },
  {
   "cell_type": "code",
   "execution_count": null,
   "metadata": {},
   "outputs": [],
   "source": [
    "# Destructuring assignment\n",
    "a, b, c = 1, True, 'text'\n",
    "\n",
    "print(a)\n",
    "print(b)\n",
    "print(c)"
   ]
  },
  {
   "cell_type": "markdown",
   "metadata": {},
   "source": [
    "# List"
   ]
  },
  {
   "cell_type": "code",
   "execution_count": null,
   "metadata": {},
   "outputs": [],
   "source": [
    "x = [10, 20, 30]\n",
    "y = ['Tom', 12]\n",
    "\n",
    "print(x, y)\n",
    "print(x[2])\n",
    "print(y[1])"
   ]
  },
  {
   "cell_type": "code",
   "execution_count": null,
   "metadata": {},
   "outputs": [],
   "source": [
    "# 資料可以被更改\n",
    "y[1] = 5\n",
    "print(y[1])"
   ]
  },
  {
   "cell_type": "code",
   "execution_count": null,
   "metadata": {},
   "outputs": [],
   "source": [
    "# Destructuring assignment\n",
    "a, b, c = [1, True, 'text']\n",
    "\n",
    "print(a)\n",
    "print(b)\n",
    "print(c)"
   ]
  },
  {
   "cell_type": "code",
   "execution_count": null,
   "metadata": {},
   "outputs": [],
   "source": [
    "# 資料可以被新增或刪除\n",
    "\n",
    "# append()\n",
    "# insert()\n",
    "# extend()\n",
    "# remove()\n",
    "# pop()"
   ]
  },
  {
   "cell_type": "markdown",
   "metadata": {},
   "source": [
    "# Dict"
   ]
  },
  {
   "cell_type": "code",
   "execution_count": null,
   "metadata": {},
   "outputs": [],
   "source": [
    "movie = {\n",
    "    'name': 'Saving Private Ryan',\n",
    "    'year': 1998,\n",
    "    'director': 'Steven Spielberg',\n",
    "    'Writer': 'Robert Rodat',\n",
    "    'Stars': ['Tom Hanks', 'Matt Damon', 'Tom Sizemore'],\n",
    "    'Oscar': ['Best Director','Best Cinematography','Best Sound','Best Film Editing','Best Effects, Sound Effects Editing']\n",
    "}\n",
    "print(movie)\n",
    "print(movie['year'])"
   ]
  },
  {
   "cell_type": "code",
   "execution_count": null,
   "metadata": {},
   "outputs": [],
   "source": [
    "# key 不存在時會發生 KeyError\n",
    "print(movie['actors'])"
   ]
  },
  {
   "cell_type": "code",
   "execution_count": null,
   "metadata": {},
   "outputs": [],
   "source": [
    "# 可用 .get 避免錯誤\n",
    "print(movie.get('actors'))"
   ]
  },
  {
   "cell_type": "code",
   "execution_count": null,
   "metadata": {},
   "outputs": [],
   "source": [
    "# 也可以給預設值\n",
    "print(movie.get('actors', []))"
   ]
  },
  {
   "cell_type": "code",
   "execution_count": null,
   "metadata": {},
   "outputs": [],
   "source": [
    "# 新增或更新資料\n",
    "movie['new key'] = 'new value'\n",
    "\n",
    "print(movie['new key'])"
   ]
  },
  {
   "cell_type": "code",
   "execution_count": null,
   "metadata": {},
   "outputs": [],
   "source": [
    "# 刪除資料\n",
    "del movie['new key']\n",
    "\n",
    "print(movie)"
   ]
  },
  {
   "cell_type": "markdown",
   "metadata": {},
   "source": [
    "# Set"
   ]
  },
  {
   "cell_type": "code",
   "execution_count": null,
   "metadata": {},
   "outputs": [],
   "source": [
    "s1 = set() # 兩者印出的東西不太一樣，但型別都是set，可以注意一下\n",
    "print(s1)\n",
    "\n",
    "s2 = {}    # 兩者印出的東西不太一樣，但型別都是set，可以注意一下\n",
    "print(s2)\n",
    "\n",
    "s3 = set(range(5))\n",
    "print(s3)\n",
    "\n",
    "s4 = {1, 1, 2, 1} # 可以注意當印出的時候只剩下不重複的元素，也就是只剩 1,2 而已\n",
    "print(s4)\n",
    "\n",
    "s5 = set(\"aquickbrownfox\")\n",
    "print(s5)"
   ]
  },
  {
   "cell_type": "code",
   "execution_count": null,
   "metadata": {},
   "outputs": [],
   "source": [
    "s1 = set()\n",
    "s2 = { 1 }\n",
    "s3 = { 1, 2 }\n",
    "\n",
    "# Subset\n",
    "print(s1 <= s2)\n",
    "print(s2 <= s3)\n",
    "\n",
    "# Superset\n",
    "print(s3 >= s1)"
   ]
  },
  {
   "cell_type": "markdown",
   "metadata": {},
   "source": [
    "# Looking up an Item"
   ]
  },
  {
   "cell_type": "code",
   "execution_count": null,
   "metadata": {},
   "outputs": [],
   "source": [
    "my_list = ['a', 'b', 'c', 'd', 'e']\n",
    "\n",
    "# index 從 0 開始\n",
    "print(my_list[0])\n",
    "\n",
    "# 取得最後一個元素\n",
    "print(my_list[-1])"
   ]
  },
  {
   "cell_type": "markdown",
   "metadata": {},
   "source": [
    "取得 Subset：`my_list[開始的index:結束的index:間隔]`"
   ]
  },
  {
   "cell_type": "code",
   "execution_count": null,
   "metadata": {},
   "outputs": [],
   "source": [
    "print(my_list[1:3])\n",
    "print(my_list[:3])\n",
    "print(my_list[3:])\n",
    "print(my_list[0::2])"
   ]
  }
 ],
 "metadata": {
  "kernelspec": {
   "display_name": "Python 3",
   "language": "python",
   "name": "python3"
  },
  "language_info": {
   "codemirror_mode": {
    "name": "ipython",
    "version": 3
   },
   "file_extension": ".py",
   "mimetype": "text/x-python",
   "name": "python",
   "nbconvert_exporter": "python",
   "pygments_lexer": "ipython3",
   "version": "3.8.3"
  }
 },
 "nbformat": 4,
 "nbformat_minor": 4
}
